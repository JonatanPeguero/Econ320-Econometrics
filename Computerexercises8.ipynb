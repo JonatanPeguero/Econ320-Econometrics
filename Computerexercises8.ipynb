{
 "cells": [
  {
   "cell_type": "code",
   "execution_count": 2,
   "id": "26a0bf4c-8a5f-402b-afcd-0413cf66b5f2",
   "metadata": {},
   "outputs": [],
   "source": [
    "# Import your packages \n",
    "import wooldridge as woo\n",
    "import numpy as np \n",
    "import pandas as pd\n",
    "import matplotlib.pyplot as plt\n",
    "import seaborn as sns\n",
    "from scipy import stats\n",
    "from scipy.stats import f\n",
    "# Now import the package to run regressions\n",
    "import statsmodels.formula.api as smf"
   ]
  },
  {
   "cell_type": "markdown",
   "id": "d5893767-8baa-4ec8-854f-1c1df0b6ca75",
   "metadata": {},
   "source": [
    "## Chapter 8 C2"
   ]
  },
  {
   "cell_type": "code",
   "execution_count": null,
   "id": "1802097a-ff13-49d6-992e-5bc29fb3b55e",
   "metadata": {},
   "outputs": [],
   "source": [
    "hprice1 = woo.dataWoo('hprice1')\n",
    "df = pd.DataFrame(hprice1, columns = ['price', 'lotsize', 'sqrft', 'bdrms\n",
    "#look at pictures on phone"
   ]
  }
 ],
 "metadata": {
  "kernelspec": {
   "display_name": "Python 3 (ipykernel)",
   "language": "python",
   "name": "python3"
  },
  "language_info": {
   "codemirror_mode": {
    "name": "ipython",
    "version": 3
   },
   "file_extension": ".py",
   "mimetype": "text/x-python",
   "name": "python",
   "nbconvert_exporter": "python",
   "pygments_lexer": "ipython3",
   "version": "3.11.5"
  }
 },
 "nbformat": 4,
 "nbformat_minor": 5
}
